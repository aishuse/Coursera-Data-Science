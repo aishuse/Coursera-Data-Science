{
 "cells": [
  {
   "cell_type": "markdown",
   "id": "92966680-9372-40b2-aed2-68500a7f8a27",
   "metadata": {},
   "source": [
    "# Data Science Tools and Ecosystem"
   ]
  },
  {
   "cell_type": "markdown",
   "id": "8535bb0e-77cb-41eb-b268-57d5cb4eefd1",
   "metadata": {
    "jp-MarkdownHeadingCollapsed": true,
    "tags": []
   },
   "source": [
    "In this notebook, Data Science Tools and Ecosystem are summarized.\n"
   ]
  },
  {
   "cell_type": "markdown",
   "id": "9c7be2f9-0271-4fab-ba0d-ec01872cc46f",
   "metadata": {},
   "source": [
    "**Objectives:** <br>\n",
    "* List popular languages for Data Science\n",
    "* List popular libraries used by Data Scientists\n",
    "* List Data Science tools"
   ]
  },
  {
   "cell_type": "markdown",
   "id": "71fa1f03-fdae-4ef7-ba87-152398344d44",
   "metadata": {},
   "source": [
    "Some of the popular languages that Data Scientists use are: <br>\n",
    "1. Python\n",
    "2. SQL\n",
    "3. R\n"
   ]
  },
  {
   "cell_type": "markdown",
   "id": "b1210d01-7f5e-46d0-81ff-18c61ed96346",
   "metadata": {},
   "source": [
    "Some of the commonly used libraries used by Data Scientists include: <br>\n",
    "1. TensorFlow.\n",
    "2. SciPy.\n",
    "3. NumPy.\n",
    "4. Pandas.\n",
    "5. Pytorch\n",
    "\n"
   ]
  },
  {
   "cell_type": "markdown",
   "id": "72b5ac3f-5787-4d76-ad18-a5b478be4785",
   "metadata": {},
   "source": [
    "|Data Science Tools| \n",
    "| --- |\n",
    "|Jupyter Notebook| \n",
    "|RStudio| \n",
    "|Apache Spark|\n",
    "\n"
   ]
  },
  {
   "cell_type": "markdown",
   "id": "2d36c244-b9b3-4814-96de-a9a7c0dce2d8",
   "metadata": {},
   "source": [
    "### Below are a few examples of evaluating arithmetic expressions in Python.\n"
   ]
  },
  {
   "cell_type": "code",
   "execution_count": 6,
   "id": "b98bf5bf-ff80-4617-a739-0e91de421964",
   "metadata": {},
   "outputs": [
    {
     "name": "stdout",
     "output_type": "stream",
     "text": [
      "17\n",
      "True\n"
     ]
    }
   ],
   "source": [
    "# This a simple arithmetic expression to mutiply then add integers\n",
    "eval = (3*4)+5\n",
    "print(eval)\n",
    "print(eval==17)\n"
   ]
  },
  {
   "cell_type": "code",
   "execution_count": 7,
   "id": "f0ed0ebd-3d30-4ecd-83ff-0399b84921a6",
   "metadata": {},
   "outputs": [
    {
     "name": "stdout",
     "output_type": "stream",
     "text": [
      "33.333333333333336\n"
     ]
    }
   ],
   "source": [
    "# This will convert 200 minutes to hours by diving by 60\n",
    "print(200 / 6)"
   ]
  },
  {
   "cell_type": "markdown",
   "id": "c96c8f02-2d4a-45ab-9275-074337469426",
   "metadata": {},
   "source": [
    "## Author <br>\n",
    "Aiswarya Baby\n"
   ]
  },
  {
   "cell_type": "code",
   "execution_count": null,
   "id": "438f9471-4fcf-4557-b902-813b33b1f221",
   "metadata": {},
   "outputs": [],
   "source": []
  }
 ],
 "metadata": {
  "kernelspec": {
   "display_name": "Python",
   "language": "python",
   "name": "conda-env-python-py"
  },
  "language_info": {
   "codemirror_mode": {
    "name": "ipython",
    "version": 3
   },
   "file_extension": ".py",
   "mimetype": "text/x-python",
   "name": "python",
   "nbconvert_exporter": "python",
   "pygments_lexer": "ipython3",
   "version": "3.7.12"
  }
 },
 "nbformat": 4,
 "nbformat_minor": 5
}
